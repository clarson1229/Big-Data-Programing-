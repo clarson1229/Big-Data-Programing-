{
 "cells": [
  {
   "cell_type": "code",
   "execution_count": 17,
   "metadata": {},
   "outputs": [
    {
     "name": "stdout",
     "output_type": "stream",
     "text": [
      "+---+--------------------+---------+-------------+------------+--------------------+\n",
      "| id|                name|dockcount|     landmark|installation|            lat-long|\n",
      "+---+--------------------+---------+-------------+------------+--------------------+\n",
      "| 38|       Park at Olive|       15|    Palo Alto|   8/14/2013|37.4256839 : -122...|\n",
      "| 46|Washington at Kea...|       15|San Francisco|   8/19/2013|37.795425 : -122....|\n",
      "| 37|Cowper at University|       11|    Palo Alto|   8/14/2013|37.448598 : -122....|\n",
      "| 45|Commercial at Mon...|       15|San Francisco|   8/19/2013|37.794231 : -122....|\n",
      "| 22|Redwood City Calt...|       25| Redwood City|   8/15/2013|37.486078 : -122....|\n",
      "|  3|San Jose Civic Ce...|       15|     San Jose|    8/5/2013|37.330698 : -121....|\n",
      "| 36|California Ave Ca...|       15|    Palo Alto|   8/14/2013|37.429082 : -122....|\n",
      "| 77|   Market at Sansome|       27|San Francisco|   8/25/2013|37.789625 : -122....|\n",
      "| 56|     Beale at Market|       19|San Francisco|   8/20/2013|37.792251 : -122....|\n",
      "| 30|Evelyn Park and Ride|       15|Mountain View|   8/16/2013|37.390277 : -122....|\n",
      "|  9|           Japantown|       15|     San Jose|    8/5/2013|37.348742 : -121....|\n",
      "| 80|Santa Clara Count...|       15|     San Jose|  12/31/2013|37.352601 : -121....|\n",
      "| 59| Golden Gate at Polk|       23|San Francisco|   8/21/2013|37.781332 : -122....|\n",
      "| 12|SJSU 4th at San C...|       19|     San Jose|    8/7/2013|37.332808 : -121....|\n",
      "| 61|     2nd at Townsend|       27|San Francisco|   8/22/2013|37.780526 : -122....|\n",
      "| 11|         MLK Library|       19|     San Jose|    8/6/2013|37.335885 : -121....|\n",
      "| 74|   Steuart at Market|       23|San Francisco|   8/25/2013|37.794139 : -122....|\n",
      "| 13|       St James Park|       15|     San Jose|    8/6/2013|37.339301 : -121....|\n",
      "| 33|Rengstorff Avenue...|       15|Mountain View|   8/16/2013|37.400241 : -122....|\n",
      "| 23|San Mateo County ...|       15| Redwood City|   8/15/2013|37.487616 : -122....|\n",
      "+---+--------------------+---------+-------------+------------+--------------------+\n",
      "only showing top 20 rows\n",
      "\n"
     ]
    }
   ],
   "source": [
    "import os \n",
    "SUBMIT_ARGS = \"--packages graphframes:graphframes:0.7.0-spark2.4-s_2.11 pyspark-shell\"\n",
    "os.environ[\"PYSPARK_SUBMIT_ARGS\"] = SUBMIT_ARGS\n",
    "from spark import *\n",
    "from graphframes import *\n",
    "from pyspark import SparkContext\n",
    "from pyspark.sql.functions import concat, col, lit\n",
    "from pyspark.sql import *\n",
    "from graphframes.examples import Graphs\n",
    "path = \"201508_trip_data.csv\"\n",
    "edges = sqlContext.read.format(\"csv\").option(\"header\", \"true\").load(path).withColumnRenamed(\"Start Terminal\", \"src\").withColumnRenamed(\"End Terminal\", \"dst\").dropDuplicates()\n",
    "\n",
    "path2 = \"201508_station_data.csv\"\n",
    "vertexs = sqlContext.read.format(\"csv\").option(\"header\", \"true\").load(path2).withColumnRenamed(\"station_id\", \"id\").dropDuplicates()\n",
    "\n",
    "\n",
    "vertexs = vertexs.withColumn('lat-long', concat(col('lat'), lit(' : '), col('long')))\n",
    "vertexs = vertexs.drop('lat')\n",
    "vertexs = vertexs.drop('long')\n",
    "\n",
    "edges.write.csv('edges.csv')\n",
    "vertexs.write.csv('vertexs.csv')\n",
    "\n",
    "\n",
    "g = GraphFrame(vertexs, edges)\n",
    "\n",
    "\n",
    "# Display the vertex and edge DataFrames\n",
    "g.vertices.show()"
   ]
  },
  {
   "cell_type": "code",
   "execution_count": 21,
   "metadata": {},
   "outputs": [
    {
     "name": "stdout",
     "output_type": "stream",
     "text": [
      "+-------+--------+---------------+--------------------+---+---------------+--------------------+---+------+---------------+--------+\n",
      "|Trip ID|Duration|     Start Date|       Start Station|src|       End Date|         End Station|dst|Bike #|Subscriber Type|Zip Code|\n",
      "+-------+--------+---------------+--------------------+---+---------------+--------------------+---+------+---------------+--------+\n",
      "| 912279|     221| 8/31/2015 9:43|Palo Alto Caltrai...| 34| 8/31/2015 9:47|Cowper at University| 37|   140|     Subscriber|   94107|\n",
      "| 911099|    2995|8/29/2015 17:48|San Francisco Cal...| 69|8/29/2015 18:38|San Francisco Cal...| 70|   471|       Customer|   90803|\n",
      "| 910741|     344| 8/29/2015 8:13|Grant Avenue at C...| 73| 8/29/2015 8:19|Harry Bridges Pla...| 50|   618|     Subscriber|   94133|\n",
      "| 910677|    6876|8/28/2015 21:42|Embarcadero at Br...| 54|8/28/2015 23:36|Embarcadero at Br...| 54|   619|       Customer|   95035|\n",
      "| 910651|     641|8/28/2015 20:40|     2nd at Townsend| 61|8/28/2015 20:51|       Market at 4th| 76|   659|     Subscriber|   94401|\n",
      "| 910444|    6343|8/28/2015 17:57|Embarcadero at Va...| 48|8/28/2015 19:43|Harry Bridges Pla...| 50|   291|       Customer|     nil|\n",
      "| 910173|     657|8/28/2015 16:33|   Steuart at Market| 74|8/28/2015 16:44|San Francisco Cal...| 69|   494|     Subscriber|   94024|\n",
      "| 909937|     293|8/28/2015 13:06|       2nd at Folsom| 62|8/28/2015 13:11|Commercial at Mon...| 45|   359|     Subscriber|   94107|\n",
      "| 909571|     381| 8/28/2015 9:00|   Steuart at Market| 74| 8/28/2015 9:06|       Howard at 2nd| 63|   487|     Subscriber|   94903|\n",
      "| 909537|     917| 8/28/2015 8:54|San Francisco Cal...| 70| 8/28/2015 9:09|   Steuart at Market| 74|   607|     Subscriber|   95131|\n",
      "| 908721|    1513|8/27/2015 17:46|Commercial at Mon...| 45|8/27/2015 18:12|San Francisco Cal...| 70|   437|     Subscriber|   94301|\n",
      "| 908634|     337|8/27/2015 17:24|   Steuart at Market| 74|8/27/2015 17:30|    Davis at Jackson| 42|   386|     Subscriber|   94107|\n",
      "| 908496|     397|8/27/2015 16:50|Broadway St at Ba...| 82|8/27/2015 16:57|   Market at Sansome| 77|   288|     Subscriber|   94025|\n",
      "| 908317|     737|8/27/2015 15:34|     2nd at Townsend| 61|8/27/2015 15:47|Embarcadero at Fo...| 51|   193|     Subscriber|   94118|\n",
      "| 908235|     510|8/27/2015 14:18|       Howard at 2nd| 63|8/27/2015 14:26|Harry Bridges Pla...| 50|   484|     Subscriber|   94107|\n",
      "| 907901|     928| 8/27/2015 9:43|   2nd at South Park| 64| 8/27/2015 9:58|Harry Bridges Pla...| 50|   329|     Subscriber|   94107|\n",
      "| 907829|    1086| 8/27/2015 9:21|Palo Alto Caltrai...| 34| 8/27/2015 9:39|California Ave Ca...| 36|   649|     Subscriber|   94611|\n",
      "| 907639|     233| 8/27/2015 8:33|San Francisco Cit...| 58| 8/27/2015 8:37|South Van Ness at...| 66|   449|     Subscriber|   94108|\n",
      "| 907618|    1015| 8/27/2015 8:26|     2nd at Townsend| 61| 8/27/2015 8:43|Powell at Post (U...| 71|   287|       Customer|   94111|\n",
      "| 907542|     778| 8/27/2015 8:09|San Francisco Cal...| 70| 8/27/2015 8:22|Embarcadero at Fo...| 51|   394|     Subscriber|   94111|\n",
      "+-------+--------+---------------+--------------------+---+---------------+--------------------+---+------+---------------+--------+\n",
      "only showing top 20 rows\n",
      "\n"
     ]
    }
   ],
   "source": [
    "g.edges.show()"
   ]
  },
  {
   "cell_type": "code",
   "execution_count": 9,
   "metadata": {},
   "outputs": [
    {
     "name": "stdout",
     "output_type": "stream",
     "text": [
      "+---+--------+\n",
      "| id|inDegree|\n",
      "+---+--------+\n",
      "| 51|    1124|\n",
      "|  7|     205|\n",
      "| 54|     943|\n",
      "| 11|     119|\n",
      "| 69|    3761|\n",
      "| 29|     130|\n",
      "| 42|     949|\n",
      "| 73|     685|\n",
      "| 64|     809|\n",
      "|  3|      62|\n",
      "| 30|     156|\n",
      "| 34|     160|\n",
      "| 59|     470|\n",
      "|  8|      68|\n",
      "| 22|     148|\n",
      "| 28|     676|\n",
      "| 16|     114|\n",
      "| 35|     148|\n",
      "| 71|     576|\n",
      "| 47|     723|\n",
      "+---+--------+\n",
      "only showing top 20 rows\n",
      "\n"
     ]
    }
   ],
   "source": [
    "g.inDegrees.show()"
   ]
  },
  {
   "cell_type": "code",
   "execution_count": 5,
   "metadata": {},
   "outputs": [
    {
     "name": "stdout",
     "output_type": "stream",
     "text": [
      "+---+---------+\n",
      "| id|outDegree|\n",
      "+---+---------+\n",
      "| 51|     1246|\n",
      "|  7|      179|\n",
      "| 54|     1071|\n",
      "| 11|      155|\n",
      "| 69|     3483|\n",
      "| 29|      123|\n",
      "| 42|      891|\n",
      "| 73|     1114|\n",
      "| 64|     1168|\n",
      "|  3|       94|\n",
      "| 30|      154|\n",
      "| 34|      206|\n",
      "| 59|      572|\n",
      "|  8|       55|\n",
      "| 28|      712|\n",
      "| 22|      228|\n",
      "| 35|      138|\n",
      "| 16|      130|\n",
      "| 71|      850|\n",
      "| 47|      680|\n",
      "+---+---------+\n",
      "only showing top 20 rows\n",
      "\n"
     ]
    }
   ],
   "source": [
    "g.outDegrees.show()"
   ]
  },
  {
   "cell_type": "code",
   "execution_count": 20,
   "metadata": {},
   "outputs": [
    {
     "name": "stdout",
     "output_type": "stream",
     "text": [
      "+--------------------+--------------------+--------------------+--------------------+\n",
      "|             vertex1|                   e|             vertex2|                  e2|\n",
      "+--------------------+--------------------+--------------------+--------------------+\n",
      "|[48, Embarcadero ...|[910444, 6343, 8/...|[50, Harry Bridge...|[856625, 1717, 7/...|\n",
      "|[74, Steuart at M...|[910173, 657, 8/2...|[69, San Francisc...|[867077, 630, 7/2...|\n",
      "|[70, San Francisc...|[909537, 917, 8/2...|[74, Steuart at M...|[895031, 694, 8/1...|\n",
      "|[45, Commercial a...|[908721, 1513, 8/...|[70, San Francisc...|[894203, 993, 8/1...|\n",
      "|[70, San Francisc...|[907542, 778, 8/2...|[51, Embarcadero ...|[853214, 570, 7/2...|\n",
      "|[70, San Francisc...|[907542, 778, 8/2...|[51, Embarcadero ...|[851622, 561, 7/1...|\n",
      "|[25, Stanford in ...|[906569, 1015, 8/...|[22, Redwood City...|[894159, 642, 8/1...|\n",
      "|[70, San Francisc...|[905058, 759, 8/2...|[76, Market at 4t...|[860439, 338, 7/2...|\n",
      "|[63, Howard at 2n...|[904696, 369, 8/2...|[50, Harry Bridge...|[856390, 1494, 7/...|\n",
      "|[2, San Jose Diri...|[903685, 375, 8/2...|[6, San Pedro Squ...|[887206, 354, 8/1...|\n",
      "|[70, San Francisc...|[903549, 766, 8/2...|[74, Steuart at M...|[913061, 877, 8/3...|\n",
      "|[70, San Francisc...|[903549, 766, 8/2...|[74, Steuart at M...|[854057, 575, 7/2...|\n",
      "|[70, San Francisc...|[903549, 766, 8/2...|[74, Steuart at M...|[907680, 657, 8/2...|\n",
      "|[70, San Francisc...|[903549, 766, 8/2...|[74, Steuart at M...|[879093, 664, 8/6...|\n",
      "|[50, Harry Bridge...|[903124, 925, 8/2...|[70, San Francisc...|[882966, 620, 8/1...|\n",
      "|[70, San Francisc...|[903115, 717, 8/2...|[77, Market at Sa...|[849312, 615, 7/1...|\n",
      "|[70, San Francisc...|[902223, 754, 8/2...|[74, Steuart at M...|[908109, 937, 8/2...|\n",
      "|[74, Steuart at M...|[900651, 836, 8/2...|[70, San Francisc...|[847443, 638, 7/1...|\n",
      "|[74, Steuart at M...|[900651, 836, 8/2...|[70, San Francisc...|[894001, 666, 8/1...|\n",
      "|[74, Steuart at M...|[900651, 836, 8/2...|[70, San Francisc...|[909421, 728, 8/2...|\n",
      "+--------------------+--------------------+--------------------+--------------------+\n",
      "only showing top 20 rows\n",
      "\n"
     ]
    }
   ],
   "source": [
    "motif=g.find(\"(vertex1)-[e]->(vertex2); (vertex2)-[e2]->(vertex1)\")\n",
    "motif=motif.dropDuplicates().show()"
   ]
  },
  {
   "cell_type": "code",
   "execution_count": null,
   "metadata": {},
   "outputs": [],
   "source": []
  }
 ],
 "metadata": {
  "kernelspec": {
   "display_name": "Python 3",
   "language": "python",
   "name": "python3"
  },
  "language_info": {
   "codemirror_mode": {
    "name": "ipython",
    "version": 3
   },
   "file_extension": ".py",
   "mimetype": "text/x-python",
   "name": "python",
   "nbconvert_exporter": "python",
   "pygments_lexer": "ipython3",
   "version": "3.6.4"
  }
 },
 "nbformat": 4,
 "nbformat_minor": 2
}
