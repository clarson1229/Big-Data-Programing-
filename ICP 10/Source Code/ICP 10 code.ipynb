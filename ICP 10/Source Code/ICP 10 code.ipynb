{
 "cells": [
  {
   "cell_type": "code",
   "execution_count": 1,
   "metadata": {},
   "outputs": [],
   "source": [
    "from pyspark import SparkContext\n",
    "from pyspark.sql.types import *\n",
    "from pyspark.sql import SparkSession\n",
    "from pyspark.sql.functions import col, lit\n"
   ]
  },
  {
   "cell_type": "code",
   "execution_count": 58,
   "metadata": {},
   "outputs": [
    {
     "name": "stdout",
     "output_type": "stream",
     "text": [
      "+-------------------+---+------+--------------+-----+-------------+--------------+---------+--------------+--------------+-----------+------------+----------+------------+----------------+----------+----------+------------------+-------------------------+-----------------------+------------+------------+-----------------------+---------------------+------------------+---------------+--------------------+\n",
      "|          Timestamp|Age|Gender|       Country|state|self_employed|family_history|treatment|work_interfere|  no_employees|remote_work|tech_company|  benefits|care_options|wellness_program| seek_help| anonymity|             leave|mental_health_consequence|phys_health_consequence|   coworkers|  supervisor|mental_health_interview|phys_health_interview|mental_vs_physical|obs_consequence|            comments|\n",
      "+-------------------+---+------+--------------+-----+-------------+--------------+---------+--------------+--------------+-----------+------------+----------+------------+----------------+----------+----------+------------------+-------------------------+-----------------------+------------+------------+-----------------------+---------------------+------------------+---------------+--------------------+\n",
      "|2014-08-27 11:29:31| 37|Female| United States|   IL|           NA|            No|      Yes|         Often|          6-25|         No|         Yes|       Yes|    Not sure|              No|       Yes|       Yes|     Somewhat easy|                       No|                     No|Some of them|         Yes|                     No|                Maybe|               Yes|             No|                  NA|\n",
      "|2014-08-27 11:29:37| 44|     M| United States|   IN|           NA|            No|       No|        Rarely|More than 1000|         No|          No|Don't know|          No|      Don't know|Don't know|Don't know|        Don't know|                    Maybe|                     No|          No|          No|                     No|                   No|        Don't know|             No|                  NA|\n",
      "|2014-08-27 11:29:44| 32|  Male|        Canada|   NA|           NA|            No|       No|        Rarely|          6-25|         No|         Yes|        No|          No|              No|        No|Don't know|Somewhat difficult|                       No|                     No|         Yes|         Yes|                    Yes|                  Yes|                No|             No|                  NA|\n",
      "|2014-08-27 11:29:46| 31|  Male|United Kingdom|   NA|           NA|           Yes|      Yes|         Often|        26-100|         No|         Yes|        No|         Yes|              No|        No|        No|Somewhat difficult|                      Yes|                    Yes|Some of them|          No|                  Maybe|                Maybe|                No|            Yes|                  NA|\n",
      "|2014-08-27 11:30:22| 31|  Male| United States|   TX|           NA|            No|       No|         Never|       100-500|        Yes|         Yes|       Yes|          No|      Don't know|Don't know|Don't know|        Don't know|                       No|                     No|Some of them|         Yes|                    Yes|                  Yes|        Don't know|             No|                  NA|\n",
      "|2014-08-27 11:31:22| 33|  Male| United States|   TN|           NA|           Yes|       No|     Sometimes|          6-25|         No|         Yes|       Yes|    Not sure|              No|Don't know|Don't know|        Don't know|                       No|                     No|         Yes|         Yes|                     No|                Maybe|        Don't know|             No|                  NA|\n",
      "|2014-08-27 11:31:50| 35|Female| United States|   MI|           NA|           Yes|      Yes|     Sometimes|           1-5|        Yes|         Yes|        No|          No|              No|        No|        No|Somewhat difficult|                    Maybe|                  Maybe|Some of them|          No|                     No|                   No|        Don't know|             No|                  NA|\n",
      "|2014-08-27 11:32:05| 39|     M|        Canada|   NA|           NA|            No|       No|         Never|           1-5|        Yes|         Yes|        No|         Yes|              No|        No|       Yes|        Don't know|                       No|                     No|          No|          No|                     No|                   No|                No|             No|                  NA|\n",
      "|2014-08-27 11:32:39| 42|Female| United States|   IL|           NA|           Yes|      Yes|     Sometimes|       100-500|         No|         Yes|       Yes|         Yes|              No|        No|        No|    Very difficult|                    Maybe|                     No|         Yes|         Yes|                     No|                Maybe|                No|             No|                  NA|\n",
      "|2014-08-27 11:32:43| 23|  Male|        Canada|   NA|           NA|            No|       No|         Never|        26-100|         No|         Yes|Don't know|          No|      Don't know|Don't know|Don't know|        Don't know|                       No|                     No|         Yes|         Yes|                  Maybe|                Maybe|               Yes|             No|                  NA|\n",
      "|2014-08-27 11:32:44| 31|  Male| United States|   OH|           NA|            No|      Yes|     Sometimes|          6-25|        Yes|         Yes|Don't know|          No|              No|        No|Don't know|        Don't know|                       No|                     No|Some of them|         Yes|                     No|                   No|        Don't know|             No|                  NA|\n",
      "|2014-08-27 11:32:49| 29|  male|      Bulgaria|   NA|           NA|            No|       No|         Never|       100-500|        Yes|         Yes|Don't know|    Not sure|              No|        No|Don't know|        Don't know|                       No|                     No|         Yes|         Yes|                    Yes|                  Yes|        Don't know|             No|                  NA|\n",
      "|2014-08-27 11:33:23| 42|female| United States|   CA|           NA|           Yes|      Yes|     Sometimes|        26-100|         No|          No|       Yes|         Yes|              No|        No|Don't know|Somewhat difficult|                      Yes|                    Yes|         Yes|         Yes|                  Maybe|                Maybe|                No|            Yes|                  NA|\n",
      "|2014-08-27 11:33:26| 36|  Male| United States|   CT|           NA|           Yes|       No|         Never|      500-1000|         No|         Yes|Don't know|    Not sure|              No|Don't know|Don't know|        Don't know|                       No|                     No|         Yes|         Yes|                     No|                   No|        Don't know|             No|I'm not on my com...|\n",
      "|2014-08-27 11:33:57| 27|  Male|        Canada|   NA|           NA|            No|       No|         Never|          6-25|         No|         Yes|Don't know|    Not sure|      Don't know|Don't know|Don't know|     Somewhat easy|                       No|                     No|Some of them|Some of them|                  Maybe|                  Yes|               Yes|             No|                  NA|\n",
      "|2014-08-27 11:34:00| 29|female| United States|   IL|           NA|           Yes|      Yes|        Rarely|        26-100|         No|         Yes|       Yes|    Not sure|              No|        No|Don't know|     Somewhat easy|                       No|                     No|         Yes|Some of them|                  Maybe|                Maybe|        Don't know|             No|I have chronic lo...|\n",
      "|2014-08-27 11:34:20| 23|  Male|United Kingdom|   NA|           NA|            No|      Yes|     Sometimes|        26-100|        Yes|         Yes|Don't know|          No|      Don't know|Don't know|Don't know|         Very easy|                    Maybe|                     No|Some of them|          No|                  Maybe|                Maybe|                No|             No|My company does p...|\n",
      "|2014-08-27 11:34:37| 32|  Male| United States|   TN|           NA|            No|      Yes|     Sometimes|          6-25|         No|         Yes|       Yes|         Yes|              No|Don't know|Don't know|        Don't know|                    Maybe|                     No|Some of them|         Yes|                     No|                   No|                No|             No|                  NA|\n",
      "|2014-08-27 11:34:53| 46|  male| United States|   MD|          Yes|           Yes|       No|     Sometimes|           1-5|        Yes|         Yes|       Yes|    Not sure|             Yes|Don't know|       Yes|         Very easy|                       No|                     No|         Yes|         Yes|                     No|                  Yes|               Yes|            Yes|                  NA|\n",
      "|2014-08-27 11:35:08| 36|  Male|        France|   NA|          Yes|           Yes|       No|            NA|          6-25|        Yes|         Yes|        No|          No|             Yes|        No|       Yes|     Somewhat easy|                       No|                     No|Some of them|Some of them|                  Maybe|                Maybe|        Don't know|             No|                  NA|\n",
      "+-------------------+---+------+--------------+-----+-------------+--------------+---------+--------------+--------------+-----------+------------+----------+------------+----------------+----------+----------+------------------+-------------------------+-----------------------+------------+------------+-----------------------+---------------------+------------------+---------------+--------------------+\n",
      "only showing top 20 rows\n",
      "\n"
     ]
    }
   ],
   "source": [
    "path = \"survey.csv\"\n",
    "df = sqlContext.read.format(\"csv\").option(\"header\", \"true\").load(path)\n",
    "df.show()"
   ]
  },
  {
   "cell_type": "code",
   "execution_count": 18,
   "metadata": {},
   "outputs": [],
   "source": [
    "df.write.csv('Documents/Coding/Big Data/Big-Data-Programing-/ICP 10/mycsv')"
   ]
  },
  {
   "cell_type": "code",
   "execution_count": 34,
   "metadata": {},
   "outputs": [
    {
     "data": {
      "text/plain": [
       "1246"
      ]
     },
     "execution_count": 34,
     "metadata": {},
     "output_type": "execute_result"
    }
   ],
   "source": [
    "value1 = df.count()\n",
    "# value1 = 1259\n",
    "value2 = df.dropDuplicates(['Timestamp']).count()\n",
    "# by comparing the count of the original data set and the count of the data set with duplicates removed \n",
    "# we can determine if duplicates are present \n",
    "value2"
   ]
  },
  {
   "cell_type": "code",
   "execution_count": 59,
   "metadata": {},
   "outputs": [
    {
     "name": "stdout",
     "output_type": "stream",
     "text": [
      "+-------------+---+------+---------+-----+-------------+--------------+---------+--------------+--------------+-----------+------------+----------+------------+----------------+----------+----------+------------------+-------------------------+-----------------------+------------+------------+-----------------------+---------------------+------------------+---------------+--------------------+\n",
      "|    Timestamp|Age|Gender|  Country|state|self_employed|family_history|treatment|work_interfere|  no_employees|remote_work|tech_company|  benefits|care_options|wellness_program| seek_help| anonymity|             leave|mental_health_consequence|phys_health_consequence|   coworkers|  supervisor|mental_health_interview|phys_health_interview|mental_vs_physical|obs_consequence|            comments|\n",
      "+-------------+---+------+---------+-----+-------------+--------------+---------+--------------+--------------+-----------+------------+----------+------------+----------------+----------+----------+------------------+-------------------------+-----------------------+------------+------------+-----------------------+---------------------+------------------+---------------+--------------------+\n",
      "| 2/21/15 4:55| 28|  Male|Australia|   NA|           No|            No|      Yes|         Often|       100-500|        Yes|         Yes|        No|         Yes|              No|        No|Don't know|        Don't know|                      Yes|                     No|          No|          No|                     No|                Maybe|                No|             No|                  NA|\n",
      "| 5/6/15 10:14| 22|  Male|Australia|   NA|           No|           Yes|      Yes|         Often|       100-500|         No|          No|       Yes|         Yes|             Yes|       Yes|       Yes|        Don't know|                    Maybe|                  Maybe|          No|         Yes|                     No|                Maybe|        Don't know|            Yes|In australia all ...|\n",
      "| 8/30/14 5:05| 26|  male|Australia|   NA|           No|           Yes|      Yes|        Rarely|        26-100|         No|         Yes|        No|          No|      Don't know|Don't know|Don't know|         Very easy|                       No|                     No|         Yes|         Yes|                  Maybe|                  Yes|               Yes|             No|                  NA|\n",
      "| 8/28/14 3:29| 29|Female|Australia|   NA|           No|           Yes|      Yes|     Sometimes|More than 1000|         No|          No|       Yes|         Yes|             Yes|       Yes|        No|Somewhat difficult|                      Yes|                     No|Some of them|Some of them|                     No|                   No|                No|            Yes|                  NA|\n",
      "| 8/28/14 3:52| 30|  Male|Australia|   NA|           No|            No|       No|     Sometimes|        26-100|         No|         Yes|        No|          No|              No|        No|Don't know|         Very easy|                       No|                     No|Some of them|Some of them|                     No|                   No|        Don't know|             No|                  NA|\n",
      "|8/28/14 18:18| 48|  male|Australia|   NA|           No|            No|      Yes|     Sometimes|        25-Jun|         No|         Yes|        No|          No|              No|        No|Don't know|     Somewhat easy|                      Yes|                     No|Some of them|          No|                     No|                Maybe|                No|            Yes|                  NA|\n",
      "| 8/28/14 4:00| 26|     F|Australia|   NA|           No|           Yes|       No|     Sometimes|       100-500|         No|          No|        No|         Yes|             Yes|       Yes|Don't know|     Somewhat easy|                       No|                     No|         Yes|         Yes|                     No|                   No|        Don't know|             No|Majority of qs on...|\n",
      "|8/27/14 11:51| 23|Female|Australia|   NA|           No|           Yes|      Yes|         Often|         5-Jan|        Yes|         Yes|        No|    Not sure|              No|        No|Don't know|         Very easy|                       No|                     No|Some of them|         Yes|                     No|                Maybe|               Yes|             No|Thanks for doing ...|\n",
      "| 8/28/14 4:16| 34|Female|Australia|   NA|           No|           Yes|       No|         Never|      500-1000|         No|          No|Don't know|          No|             Yes|       Yes|Don't know|        Don't know|                      Yes|                  Maybe|          No|          No|                     No|                   No|        Don't know|            Yes|I don't have any ...|\n",
      "|8/28/14 10:54| 37|  male|Australia|   NA|           No|           Yes|      Yes|     Sometimes|        26-100|         No|         Yes|        No|         Yes|              No|        No|       Yes|         Very easy|                       No|                     No|Some of them|         Yes|                     No|                Maybe|               Yes|            Yes|                  NA|\n",
      "|8/27/14 15:40| 20|  Male|Australia|   NA|           No|            No|       No|            NA|       100-500|        Yes|         Yes|Don't know|    Not sure|      Don't know|Don't know|       Yes|         Very easy|                       No|                     No|Some of them|         Yes|                     No|                   No|        Don't know|             No|                  NA|\n",
      "|8/27/14 17:41| 31|  Male|Australia|   NA|           No|            No|      Yes|        Rarely|       100-500|         No|         Yes|       Yes|         Yes|             Yes|       Yes|Don't know|     Somewhat easy|                       No|                     No|         Yes|         Yes|                    Yes|                  Yes|                No|             No|                  NA|\n",
      "|8/27/14 13:49| 25|  Male|Australia|   NA|           No|           Yes|      Yes|         Often|        25-Jun|         No|         Yes|        No|         Yes|              No|        No|        No|    Very difficult|                      Yes|                  Maybe|          No|          No|                     No|                  Yes|                No|            Yes|                  NA|\n",
      "|8/27/14 17:48| 27|Female|Australia|   NA|           No|           Yes|      Yes|     Sometimes|        25-Jun|         No|         Yes|        No|         Yes|              No|        No|        No|Somewhat difficult|                      Yes|                     No|Some of them|Some of them|                     No|                   No|                No|             No|                  NA|\n",
      "|8/29/14 11:04| 26|  male|Australia|   NA|           No|           Yes|      Yes|     Sometimes|        26-100|        Yes|         Yes|        No|          No|              No|        No|       Yes|        Don't know|                       No|                     No|         Yes|         Yes|                     No|                Maybe|               Yes|             No|The questions rel...|\n",
      "|8/27/14 19:08| 34|     M|Australia|   NA|           No|            No|       No|     Sometimes|More than 1000|         No|         Yes|       Yes|         Yes|             Yes|       Yes|       Yes|         Very easy|                       No|                     No|Some of them|         Yes|                     No|                Maybe|               Yes|             No|                  NA|\n",
      "|8/27/14 14:03| 22|  Male|Australia|   NA|          Yes|           Yes|      Yes|     Sometimes|        25-Jun|        Yes|         Yes|Don't know|    Not sure|             Yes|       Yes|Don't know|     Somewhat easy|                    Maybe|                     No|Some of them|         Yes|                     No|                  Yes|                No|            Yes|                  NA|\n",
      "|8/27/14 19:27| 33|  Male|Australia|   NA|           No|            No|       No|         Never|More than 1000|         No|         Yes|Don't know|    Not sure|      Don't know|Don't know|       Yes|         Very easy|                       No|                     No|Some of them|         Yes|                  Maybe|                  Yes|               Yes|             No|                  NA|\n",
      "|8/27/14 13:19| 34|  Male|Australia|   NA|          Yes|            No|       No|     Sometimes|         5-Jan|        Yes|         Yes|Don't know|    Not sure|             Yes|       Yes|Don't know|Somewhat difficult|                      Yes|                    Yes|          No|          No|                     No|                Maybe|               Yes|             No|                  NA|\n",
      "|8/27/14 21:54| 27|  Male|Australia|   NA|           No|            No|      Yes|         Often|       100-500|        Yes|         Yes|        No|          No|              No|        No|Don't know|        Don't know|                    Maybe|                     No|Some of them|          No|                     No|                Maybe|                No|            Yes|                  NA|\n",
      "+-------------+---+------+---------+-----+-------------+--------------+---------+--------------+--------------+-----------+------------+----------+------------+----------------+----------+----------+------------------+-------------------------+-----------------------+------------+------------+-----------------------+---------------------+------------------+---------------+--------------------+\n",
      "only showing top 20 rows\n",
      "\n"
     ]
    }
   ],
   "source": [
    "path = \"surveypart1.csv\"\n",
    "df1 = sqlContext.read.format(\"csv\").option(\"header\", \"true\").load(path)\n",
    "df1.count() #660\n",
    "\n",
    "path2 = \"surveypart2.csv\"\n",
    "df2 = sqlContext.read.format(\"csv\").option(\"header\", \"true\").load(path2)\n",
    "\n",
    "df2.count() #599\n",
    "\n",
    "unionDF = df1.unionAll(df2).orderBy('Country')\n",
    "unionDF.count() #1259  So we know all files were joined together\n",
    "unionDF.show()"
   ]
  },
  {
   "cell_type": "code",
   "execution_count": 49,
   "metadata": {},
   "outputs": [
    {
     "name": "stdout",
     "output_type": "stream",
     "text": [
      "+---------+-----+\n",
      "|Treatment|count|\n",
      "+---------+-----+\n",
      "|       No|  321|\n",
      "|      Yes|  339|\n",
      "+---------+-----+\n",
      "\n"
     ]
    }
   ],
   "source": [
    "groupped = df.groupBy(\"Treatment\").count().show()\n"
   ]
  },
  {
   "cell_type": "code",
   "execution_count": 81,
   "metadata": {},
   "outputs": [
    {
     "name": "stdout",
     "output_type": "stream",
     "text": [
      "+-------------+--------------+\n",
      "|      Country|count(Country)|\n",
      "+-------------+--------------+\n",
      "|       Russia|             2|\n",
      "|       Sweden|            12|\n",
      "|    Singapore|             3|\n",
      "|      Germany|           450|\n",
      "|       France|            40|\n",
      "|      Belgium|             5|\n",
      "|      Finland|             2|\n",
      "|United States|        140790|\n",
      "|        India|            21|\n",
      "|        Italy|            10|\n",
      "|      Ireland|           126|\n",
      "|       Israel|             6|\n",
      "|       Mexico|             2|\n",
      "|  Switzerland|            10|\n",
      "|       Canada|          1232|\n",
      "|       Brazil|             9|\n",
      "|  New Zealand|            15|\n",
      "|       Poland|            12|\n",
      "|    Australia|           110|\n",
      "|     Bulgaria|             4|\n",
      "+-------------+--------------+\n",
      "only showing top 20 rows\n",
      "\n"
     ]
    }
   ],
   "source": [
    "df1.createOrReplaceTempView(\"table1\")\n",
    "df2.createOrReplaceTempView(\"table2\")\n",
    "df4 = spark.sql(\"SELECT A.Country, count(A.Country) from table1 as A inner join table2 as B on A.Country=B.Country group by A.Country\")\n",
    "df4.show()"
   ]
  },
  {
   "cell_type": "code",
   "execution_count": 85,
   "metadata": {},
   "outputs": [
    {
     "name": "stdout",
     "output_type": "stream",
     "text": [
      "+-----+------------------------+\n",
      "|state|avg(CAST(Age AS DOUBLE))|\n",
      "+-----+------------------------+\n",
      "|   SC|      28.333333333333332|\n",
      "|   AZ|      34.333333333333336|\n",
      "|   LA|                    35.0|\n",
      "|   MN|       33.07692307692308|\n",
      "|   NJ|      33.333333333333336|\n",
      "|   DC|                    38.0|\n",
      "|   OR|       37.18181818181818|\n",
      "|   NA|       21.69812855980472|\n",
      "|   VA|      40.888888888888886|\n",
      "|   WY|                    41.5|\n",
      "|   KY|                    26.0|\n",
      "|   MI|       35.18181818181818|\n",
      "|   NV|                    28.0|\n",
      "|   WI|       33.55555555555556|\n",
      "|   CA|      33.888888888888886|\n",
      "|   NE|                    25.0|\n",
      "|   CT|                    42.5|\n",
      "|   NC|                   33.75|\n",
      "|   VT|                    34.0|\n",
      "|   MD|                   34.75|\n",
      "+-----+------------------------+\n",
      "only showing top 20 rows\n",
      "\n"
     ]
    }
   ],
   "source": [
    "df5 = spark.sql(\"SELECT A.state, avg(A.Age) from table1 as A inner join table2 as B on A.Country=B.Country group by A.state\")\n",
    "df5.show()"
   ]
  },
  {
   "cell_type": "code",
   "execution_count": 89,
   "metadata": {},
   "outputs": [
    {
     "name": "stdout",
     "output_type": "stream",
     "text": [
      "+--------------+--------------+\n",
      "|       Country|count(Country)|\n",
      "+--------------+--------------+\n",
      "| United States|        140790|\n",
      "|United Kingdom|          8136|\n",
      "|        Canada|          1232|\n",
      "|       Germany|           450|\n",
      "|       Ireland|           126|\n",
      "|   Netherlands|           126|\n",
      "|     Australia|           110|\n",
      "|        France|            40|\n",
      "|         India|            21|\n",
      "|   New Zealand|            15|\n",
      "|        Sweden|            12|\n",
      "|        Poland|            12|\n",
      "|   Switzerland|            10|\n",
      "|         Italy|            10|\n",
      "|        Brazil|             9|\n",
      "|  South Africa|             8|\n",
      "|        Israel|             6|\n",
      "|       Belgium|             5|\n",
      "|      Bulgaria|             4|\n",
      "|     Singapore|             3|\n",
      "+--------------+--------------+\n",
      "only showing top 20 rows\n",
      "\n"
     ]
    }
   ],
   "source": [
    "df6 = spark.sql(\"SELECT A.Country, count(A.Country) from table1 as A inner join table2 as B on A.Country=B.Country group by A.Country order by count(A.Country) DESC\")\n",
    "df6.show()"
   ]
  },
  {
   "cell_type": "code",
   "execution_count": 91,
   "metadata": {},
   "outputs": [
    {
     "data": {
      "text/plain": [
       "Row(Timestamp='2014-08-27 11:33:26', Age='36', Gender='Male', Country='United States', state='CT', self_employed='NA', family_history='Yes', treatment='No', work_interfere='Never', no_employees='500-1000', remote_work='No', tech_company='Yes', benefits=\"Don't know\", care_options='Not sure', wellness_program='No', seek_help=\"Don't know\", anonymity=\"Don't know\", leave=\"Don't know\", mental_health_consequence='No', phys_health_consequence='No', coworkers='Yes', supervisor='Yes', mental_health_interview='No', phys_health_interview='No', mental_vs_physical=\"Don't know\", obs_consequence='No', comments=\"I'm not on my company's health insurance which could be part of the reason I answered Don't know to so many questions.\")"
      ]
     },
     "execution_count": 91,
     "metadata": {},
     "output_type": "execute_result"
    }
   ],
   "source": [
    "df.collect()[13]"
   ]
  },
  {
   "cell_type": "code",
   "execution_count": null,
   "metadata": {},
   "outputs": [],
   "source": []
  }
 ],
 "metadata": {
  "kernelspec": {
   "display_name": "Python 3",
   "language": "python",
   "name": "python3"
  },
  "language_info": {
   "codemirror_mode": {
    "name": "ipython",
    "version": 3
   },
   "file_extension": ".py",
   "mimetype": "text/x-python",
   "name": "python",
   "nbconvert_exporter": "python",
   "pygments_lexer": "ipython3",
   "version": "3.6.4"
  }
 },
 "nbformat": 4,
 "nbformat_minor": 2
}
