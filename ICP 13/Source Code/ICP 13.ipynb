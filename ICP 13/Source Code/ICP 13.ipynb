{
 "cells": [
  {
   "cell_type": "code",
   "execution_count": 1,
   "metadata": {},
   "outputs": [
    {
     "name": "stdout",
     "output_type": "stream",
     "text": [
      "done\n"
     ]
    }
   ],
   "source": [
    "from pyspark.sql import SparkSession\n",
    "import os \n",
    "SUBMIT_ARGS = \"--packages graphframes:graphframes:0.7.0-spark2.4-s_2.11 pyspark-shell\"\n",
    "os.environ[\"PYSPARK_SUBMIT_ARGS\"] = SUBMIT_ARGS\n",
    "from spark import *\n",
    "from graphframes import *\n",
    "from pyspark import SparkContext\n",
    "from pyspark.sql.functions import concat, col, lit\n",
    "from pyspark.sql import *\n",
    "from graphframes.examples import Graphs\n",
    "print('done')"
   ]
  },
  {
   "cell_type": "code",
   "execution_count": 11,
   "metadata": {},
   "outputs": [
    {
     "name": "stdout",
     "output_type": "stream",
     "text": [
      "+---+--------------------+---------+-------------+------------+--------------------+\n",
      "| id|                name|dockcount|     landmark|installation|            lat-long|\n",
      "+---+--------------------+---------+-------------+------------+--------------------+\n",
      "| 38|       Park at Olive|       15|    Palo Alto|   8/14/2013|37.4256839 : -122...|\n",
      "| 46|Washington at Kea...|       15|San Francisco|   8/19/2013|37.795425 : -122....|\n",
      "| 37|Cowper at University|       11|    Palo Alto|   8/14/2013|37.448598 : -122....|\n",
      "| 45|Commercial at Mon...|       15|San Francisco|   8/19/2013|37.794231 : -122....|\n",
      "| 22|Redwood City Calt...|       25| Redwood City|   8/15/2013|37.486078 : -122....|\n",
      "|  3|San Jose Civic Ce...|       15|     San Jose|    8/5/2013|37.330698 : -121....|\n",
      "| 36|California Ave Ca...|       15|    Palo Alto|   8/14/2013|37.429082 : -122....|\n",
      "| 77|   Market at Sansome|       27|San Francisco|   8/25/2013|37.789625 : -122....|\n",
      "| 56|     Beale at Market|       19|San Francisco|   8/20/2013|37.792251 : -122....|\n",
      "| 30|Evelyn Park and Ride|       15|Mountain View|   8/16/2013|37.390277 : -122....|\n",
      "|  9|           Japantown|       15|     San Jose|    8/5/2013|37.348742 : -121....|\n",
      "| 80|Santa Clara Count...|       15|     San Jose|  12/31/2013|37.352601 : -121....|\n",
      "| 59| Golden Gate at Polk|       23|San Francisco|   8/21/2013|37.781332 : -122....|\n",
      "| 12|SJSU 4th at San C...|       19|     San Jose|    8/7/2013|37.332808 : -121....|\n",
      "| 61|     2nd at Townsend|       27|San Francisco|   8/22/2013|37.780526 : -122....|\n",
      "| 11|         MLK Library|       19|     San Jose|    8/6/2013|37.335885 : -121....|\n",
      "| 74|   Steuart at Market|       23|San Francisco|   8/25/2013|37.794139 : -122....|\n",
      "| 13|       St James Park|       15|     San Jose|    8/6/2013|37.339301 : -121....|\n",
      "| 33|Rengstorff Avenue...|       15|Mountain View|   8/16/2013|37.400241 : -122....|\n",
      "| 23|San Mateo County ...|       15| Redwood City|   8/15/2013|37.487616 : -122....|\n",
      "+---+--------------------+---------+-------------+------------+--------------------+\n",
      "only showing top 20 rows\n",
      "\n"
     ]
    }
   ],
   "source": [
    "path = \"201508_trip_data.csv\"\n",
    "edges = sqlContext.read.format(\"csv\").option(\"header\", \"true\").load(path).withColumnRenamed(\"Start Terminal\", \"src\").withColumnRenamed(\"End Terminal\", \"dst\").withColumnRenamed(\"Trip ID\", \"Trip-ID\").withColumnRenamed(\"Start Date\", \"Start-Date\").withColumnRenamed(\"Start Station\", \"Start-Station\").withColumnRenamed(\"End Date\", \"End-Date\").withColumnRenamed(\"End Station\", \"End-Station\").withColumnRenamed(\"Bike #\", \"Bike-#\").withColumnRenamed(\"Subscriber Type\", \"Subscriber-Type\").withColumnRenamed(\"Zip Code\", \"Zip-Code\").dropDuplicates()\n",
    "\n",
    "path2 = \"201508_station_data.csv\"\n",
    "vertexs = sqlContext.read.format(\"csv\").option(\"header\", \"true\").load(path2).withColumnRenamed(\"station_id\", \"id\").dropDuplicates()\n",
    "\n",
    "\n",
    "vertexs = vertexs.withColumn('lat-long', concat(col('lat'), lit(' : '), col('long')))\n",
    "vertexs = vertexs.drop('lat')\n",
    "vertexs = vertexs.drop('long')\n",
    "\n",
    "\n",
    "g = GraphFrame(vertexs, edges)\n",
    "\n",
    "\n",
    "# Display the vertex and edge DataFrames\n",
    "g.vertices.show()"
   ]
  },
  {
   "cell_type": "code",
   "execution_count": 8,
   "metadata": {},
   "outputs": [
    {
     "name": "stdout",
     "output_type": "stream",
     "text": [
      "Done\n"
     ]
    }
   ],
   "source": [
    "results = g.triangleCount()\n",
    "print('Done')"
   ]
  },
  {
   "cell_type": "code",
   "execution_count": 9,
   "metadata": {},
   "outputs": [
    {
     "name": "stdout",
     "output_type": "stream",
     "text": [
      "+---+-----+\n",
      "| id|count|\n",
      "+---+-----+\n",
      "| 51|  561|\n",
      "|  7|   81|\n",
      "| 54|  561|\n",
      "| 11|   90|\n",
      "| 29|   33|\n",
      "| 69|  561|\n",
      "| 42|  561|\n",
      "| 73|  561|\n",
      "| 64|  561|\n",
      "|  3|   63|\n",
      "| 30|   10|\n",
      "| 34|   26|\n",
      "| 59|  561|\n",
      "|  8|   61|\n",
      "| 22|   15|\n",
      "| 28|   33|\n",
      "| 16|   73|\n",
      "| 35|   30|\n",
      "| 71|  561|\n",
      "| 47|  561|\n",
      "+---+-----+\n",
      "only showing top 20 rows\n",
      "\n",
      "done\n"
     ]
    }
   ],
   "source": [
    "results.select(\"id\", \"count\").show()\n",
    "print('done')"
   ]
  },
  {
   "cell_type": "code",
   "execution_count": 15,
   "metadata": {},
   "outputs": [
    {
     "name": "stdout",
     "output_type": "stream",
     "text": [
      "done\n"
     ]
    }
   ],
   "source": [
    "g.vertices.write.parquet(\"DataFrames/Edges\")\n",
    "g.edges.write.parquet(\"DataFrames/Vertices\")\n",
    "print('done')"
   ]
  },
  {
   "cell_type": "code",
   "execution_count": 19,
   "metadata": {},
   "outputs": [
    {
     "name": "stdout",
     "output_type": "stream",
     "text": [
      "done\n"
     ]
    }
   ],
   "source": [
    "results = g.pageRank(resetProbability=.15, maxIter=2)\n",
    "print(\"done\")"
   ]
  },
  {
   "cell_type": "code",
   "execution_count": 20,
   "metadata": {},
   "outputs": [
    {
     "name": "stdout",
     "output_type": "stream",
     "text": [
      "+---+------------------+\n",
      "| id|          pagerank|\n",
      "+---+------------------+\n",
      "| 25|1.6024018319203723|\n",
      "| 51|0.8884101250751557|\n",
      "|  7|1.2524128714420097|\n",
      "| 54|0.7581303586233339|\n",
      "| 82|0.6544377565574545|\n",
      "| 11|0.7670739160662481|\n",
      "| 29|0.8981630140053439|\n",
      "| 69|2.5122927719471106|\n",
      "| 42|0.7908426658945884|\n",
      "| 73|0.5950194420362506|\n",
      "| 64|0.6834267434803176|\n",
      "| 58|0.3660116138002388|\n",
      "|  3|0.4646438771479797|\n",
      "| 30|0.6946623287268426|\n",
      "| 34| 1.387382352210988|\n",
      "| 59|0.4637564730280793|\n",
      "| 33|0.5668289972843616|\n",
      "|  8|0.5428632723802358|\n",
      "| 48|0.7589545837820103|\n",
      "| 22|1.5732765002256561|\n",
      "+---+------------------+\n",
      "only showing top 20 rows\n",
      "\n",
      "done\n"
     ]
    }
   ],
   "source": [
    "results.vertices.select(\"id\", \"pagerank\").show()\n",
    "\n",
    "print(\"done\")"
   ]
  },
  {
   "cell_type": "code",
   "execution_count": 21,
   "metadata": {},
   "outputs": [
    {
     "name": "stdout",
     "output_type": "stream",
     "text": [
      "+---+---+--------------------+\n",
      "|src|dst|              weight|\n",
      "+---+---+--------------------+\n",
      "| 54| 42|9.337068160597573E-4|\n",
      "| 54| 42|9.337068160597573E-4|\n",
      "| 54| 42|9.337068160597573E-4|\n",
      "| 54| 42|9.337068160597573E-4|\n",
      "| 54| 42|9.337068160597573E-4|\n",
      "| 54| 42|9.337068160597573E-4|\n",
      "| 54| 42|9.337068160597573E-4|\n",
      "| 54| 42|9.337068160597573E-4|\n",
      "| 54| 42|9.337068160597573E-4|\n",
      "| 54| 42|9.337068160597573E-4|\n",
      "| 54| 42|9.337068160597573E-4|\n",
      "| 54| 42|9.337068160597573E-4|\n",
      "| 54| 42|9.337068160597573E-4|\n",
      "| 54| 42|9.337068160597573E-4|\n",
      "| 54| 42|9.337068160597573E-4|\n",
      "| 54| 42|9.337068160597573E-4|\n",
      "| 54| 42|9.337068160597573E-4|\n",
      "| 54| 42|9.337068160597573E-4|\n",
      "| 54| 42|9.337068160597573E-4|\n",
      "| 54| 42|9.337068160597573E-4|\n",
      "+---+---+--------------------+\n",
      "only showing top 20 rows\n",
      "\n",
      "Done\n"
     ]
    }
   ],
   "source": [
    "results.edges.select(\"src\", \"dst\", \"weight\").show()\n",
    "print(\"Done\")\n"
   ]
  },
  {
   "cell_type": "code",
   "execution_count": 33,
   "metadata": {},
   "outputs": [
    {
     "name": "stdout",
     "output_type": "stream",
     "text": [
      "done\n"
     ]
    }
   ],
   "source": [
    "results = g.shortestPaths(landmarks=[\"4\", \"16\",\"45\"])\n",
    "print(\"done\")"
   ]
  },
  {
   "cell_type": "code",
   "execution_count": 35,
   "metadata": {},
   "outputs": [
    {
     "name": "stdout",
     "output_type": "stream",
     "text": [
      "+---+--------------------+---------+-------------+------------+--------------------+-----------------+\n",
      "| id|                name|dockcount|     landmark|installation|            lat-long|        distances|\n",
      "+---+--------------------+---------+-------------+------------+--------------------+-----------------+\n",
      "| 25|Stanford in Redwo...|       15| Redwood City|   8/12/2013|37.48537 : -122.2...|               []|\n",
      "| 51|Embarcadero at Fo...|       19|San Francisco|   8/20/2013|37.791464 : -122....|        [45 -> 1]|\n",
      "|  7|Paseo de San Antonio|       15|     San Jose|    8/7/2013|37.333798 : -121....|[16 -> 1, 4 -> 1]|\n",
      "| 54|Embarcadero at Br...|       15|San Francisco|   8/20/2013|37.787152 : -122....|        [45 -> 1]|\n",
      "| 82|Broadway St at Ba...|       15|San Francisco|   1/22/2014|37.798541 : -122....|        [45 -> 1]|\n",
      "| 11|         MLK Library|       19|     San Jose|    8/6/2013|37.335885 : -121....|[4 -> 1, 16 -> 1]|\n",
      "| 29|San Antonio Caltr...|       23|Mountain View|   8/15/2013|37.40694 : -122.1...|               []|\n",
      "| 69|San Francisco Cal...|       23|San Francisco|   8/23/2013|37.7766 : -122.39547|        [45 -> 1]|\n",
      "| 42|    Davis at Jackson|       15|San Francisco|   8/19/2013|37.79728 : -122.3...|        [45 -> 1]|\n",
      "| 73|Grant Avenue at C...|       15|San Francisco|   8/21/2013|37.798522 : -122....|        [45 -> 1]|\n",
      "| 64|   2nd at South Park|       15|San Francisco|   8/22/2013|37.782259 : -122....|        [45 -> 1]|\n",
      "| 58|San Francisco Cit...|       19|San Francisco|   8/21/2013|37.77865 : -122.4...|        [45 -> 1]|\n",
      "|  3|San Jose Civic Ce...|       15|     San Jose|    8/5/2013|37.330698 : -121....|[4 -> 1, 16 -> 2]|\n",
      "| 30|Evelyn Park and Ride|       15|Mountain View|   8/16/2013|37.390277 : -122....|               []|\n",
      "| 34|Palo Alto Caltrai...|       23|    Palo Alto|   8/14/2013|37.443988 : -122....|               []|\n",
      "| 59| Golden Gate at Polk|       23|San Francisco|   8/21/2013|37.781332 : -122....|        [45 -> 1]|\n",
      "| 33|Rengstorff Avenue...|       15|Mountain View|   8/16/2013|37.400241 : -122....|               []|\n",
      "|  8| San Salvador at 1st|       15|     San Jose|    8/5/2013|37.330165 : -121....|[16 -> 1, 4 -> 1]|\n",
      "| 48|Embarcadero at Va...|       15|San Francisco|   8/19/2013|37.799953 : -122....|        [45 -> 1]|\n",
      "| 22|Redwood City Calt...|       25| Redwood City|   8/15/2013|37.486078 : -122....|               []|\n",
      "+---+--------------------+---------+-------------+------------+--------------------+-----------------+\n",
      "only showing top 20 rows\n",
      "\n"
     ]
    }
   ],
   "source": [
    "results.show()"
   ]
  },
  {
   "cell_type": "code",
   "execution_count": null,
   "metadata": {},
   "outputs": [],
   "source": []
  }
 ],
 "metadata": {
  "kernelspec": {
   "display_name": "Python 3",
   "language": "python",
   "name": "python3"
  },
  "language_info": {
   "codemirror_mode": {
    "name": "ipython",
    "version": 3
   },
   "file_extension": ".py",
   "mimetype": "text/x-python",
   "name": "python",
   "nbconvert_exporter": "python",
   "pygments_lexer": "ipython3",
   "version": "3.6.4"
  }
 },
 "nbformat": 4,
 "nbformat_minor": 2
}
